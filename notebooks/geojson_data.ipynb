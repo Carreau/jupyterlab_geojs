{
 "cells": [
  {
   "cell_type": "code",
   "execution_count": 7,
   "metadata": {},
   "outputs": [
    {
     "data": {
      "application/geojs": {
       "layers": [
        {
         "layerType": "osm",
         "options": {}
        },
        {
         "features": [],
         "layerType": "feature",
         "options": {}
        }
       ],
       "options": {
        "center": {
         "x": -76.5,
         "y": 43,
         "z": 0
        },
        "node": {
         "jQuery331060010345765965721": {
          "events": {
           "contextmenu": [
            {
             "guid": 166,
             "namespace": "geojs",
             "origType": "contextmenu",
             "type": "contextmenu"
            }
           ],
           "dragover": [
            {
             "guid": 159,
             "namespace": "geo",
             "origType": "dragover",
             "type": "dragover"
            }
           ],
           "dragstart": [
            {
             "guid": 165,
             "namespace": "",
             "origType": "dragstart",
             "type": "dragstart"
            }
           ],
           "drop": [
            {
             "guid": 160,
             "namespace": "geo",
             "origType": "drop",
             "type": "drop"
            }
           ],
           "mousedown": [
            {
             "guid": 163,
             "namespace": "geojs",
             "origType": "mousedown",
             "type": "mousedown"
            }
           ],
           "mousemove": [
            {
             "guid": 162,
             "namespace": "geojs",
             "origType": "mousemove",
             "type": "mousemove"
            }
           ],
           "mouseup": [
            {
             "guid": 164,
             "namespace": "geojs",
             "origType": "mouseup",
             "type": "mouseup"
            }
           ],
           "wheel": [
            {
             "guid": 161,
             "namespace": "geojs",
             "origType": "wheel",
             "type": "wheel"
            }
           ]
          }
         },
         "jQuery331060010345765965722": {
          "dataGeojsMap": {}
         }
        },
        "zoom": 7
       }
      },
      "text/plain": [
       "<jupyterlab_geojs.GeoJSMap object>"
      ]
     },
     "metadata": {
      "application/geojs": {
       "expanded": false
      }
     },
     "output_type": "display_data"
    }
   ],
   "source": [
    "# Initialize the map and add OSM and feature layers\n",
    "from jupyterlab_geojs import GeoJSMap\n",
    "kwcoords = {'y': 43.0, 'x': -76.5}\n",
    "geomap = GeoJSMap(center=kwcoords, zoom=7)\n",
    "\n",
    "osm_layer = geomap.createLayer('osm')\n",
    "feature_layer = geomap.createLayer('feature')\n",
    "\n",
    "geomap"
   ]
  },
  {
   "cell_type": "code",
   "execution_count": 8,
   "metadata": {},
   "outputs": [
    {
     "data": {
      "application/geojs": {
       "layers": [
        {
         "layerType": "osm",
         "options": {}
        },
        {
         "features": [
          {
           "data": {
            "geometry": {
             "coordinates": [
              [
               [
                -78.878369,
                42.886447
               ],
               [
                -76.147424,
                43.048122
               ],
               [
                -75.910756,
                43.974784
               ],
               [
                -73.756232,
                42.652579
               ],
               [
                -75.917974,
                42.098687
               ],
               [
                -78.429927,
                42.083639
               ],
               [
                -78.878369,
                42.886447
               ]
              ]
             ],
             "type": "Polygon"
            },
            "properties": {
             "author": "Kitware",
             "cities": [
              "Buffalo",
              "Syracuse",
              "Watertown",
              "Albany",
              "Binghamton",
              "Olean"
             ]
            },
            "type": "Feature"
           },
           "featureType": "geojson",
           "options": {}
          }
         ],
         "layerType": "feature",
         "options": {}
        }
       ],
       "options": {
        "center": {
         "x": -76.5,
         "y": 43,
         "z": 0
        },
        "node": {
         "jQuery331060010345765965721": {
          "events": {
           "contextmenu": [
            {
             "guid": 188,
             "namespace": "geojs",
             "origType": "contextmenu",
             "type": "contextmenu"
            }
           ],
           "dragover": [
            {
             "guid": 181,
             "namespace": "geo",
             "origType": "dragover",
             "type": "dragover"
            }
           ],
           "dragstart": [
            {
             "guid": 187,
             "namespace": "",
             "origType": "dragstart",
             "type": "dragstart"
            }
           ],
           "drop": [
            {
             "guid": 182,
             "namespace": "geo",
             "origType": "drop",
             "type": "drop"
            }
           ],
           "mousedown": [
            {
             "guid": 185,
             "namespace": "geojs",
             "origType": "mousedown",
             "type": "mousedown"
            }
           ],
           "mousemove": [
            {
             "guid": 184,
             "namespace": "geojs",
             "origType": "mousemove",
             "type": "mousemove"
            }
           ],
           "mouseup": [
            {
             "guid": 186,
             "namespace": "geojs",
             "origType": "mouseup",
             "type": "mouseup"
            }
           ],
           "wheel": [
            {
             "guid": 183,
             "namespace": "geojs",
             "origType": "wheel",
             "type": "wheel"
            }
           ]
          }
         },
         "jQuery331060010345765965722": {
          "dataGeojsMap": {}
         }
        },
        "zoom": 7
       }
      },
      "text/plain": [
       "<jupyterlab_geojs.GeoJSMap object>"
      ]
     },
     "metadata": {
      "application/geojs": {
       "expanded": false
      }
     },
     "output_type": "display_data"
    }
   ],
   "source": [
    "# Add GeoJSON features by creating json object\n",
    "ny_poly = { \"type\": \"Feature\",\n",
    "  \"geometry\": {\n",
    "    \"type\": \"Polygon\",\n",
    "    \"coordinates\": [[\n",
    "      [-78.878369, 42.886447],\n",
    "      [-76.147424, 43.048122],\n",
    "      [-75.910756, 43.974784],\n",
    "      [-73.756232, 42.652579],\n",
    "      [-75.917974, 42.098687],\n",
    "      [-78.429927, 42.083639],\n",
    "      [-78.878369, 42.886447]\n",
    "    ]]\n",
    "  },\n",
    "  \"properties\": {\n",
    "    \"author\": \"Kitware\",\n",
    "    \"cities\": [\"Buffalo\", \"Syracuse\", \"Watertown\", \"Albany\", \"Binghamton\", \"Olean\"]\n",
    "  }\n",
    "}\n",
    "feature_layer.createFeature('geojson', data=ny_poly)\n",
    "geomap"
   ]
  },
  {
   "cell_type": "code",
   "execution_count": 9,
   "metadata": {},
   "outputs": [
    {
     "data": {
      "application/geojs": {
       "layers": [
        {
         "layerType": "osm",
         "options": {}
        },
        {
         "features": [
          {
           "data": {
            "geometry": {
             "coordinates": [
              [
               [
                -78.878369,
                42.886447
               ],
               [
                -76.147424,
                43.048122
               ],
               [
                -75.910756,
                43.974784
               ],
               [
                -73.756232,
                42.652579
               ],
               [
                -75.917974,
                42.098687
               ],
               [
                -78.429927,
                42.083639
               ],
               [
                -78.878369,
                42.886447
               ]
              ]
             ],
             "type": "Polygon"
            },
            "properties": {
             "author": "Kitware",
             "cities": [
              "Buffalo",
              "Syracuse",
              "Watertown",
              "Albany",
              "Binghamton",
              "Olean"
             ]
            },
            "type": "Feature"
           },
           "featureType": "geojson",
           "options": {}
          },
          {
           "data": {
            "features": [
             {
              "geometry": {
               "coordinates": [
                -73.756232,
                42.652579
               ],
               "type": "Point"
              },
              "id": null,
              "properties": {
               "name": "Albany",
               "zipcode": 12201
              },
              "type": "Feature"
             },
             {
              "geometry": {
               "coordinates": [
                -75.917974,
                42.098687
               ],
               "type": "Point"
              },
              "id": null,
              "properties": {
               "name": "Binghamton",
               "zipcode": 13901
              },
              "type": "Feature"
             },
             {
              "geometry": {
               "coordinates": [
                -78.878369,
                42.886447
               ],
               "type": "Point"
              },
              "id": null,
              "properties": {
               "name": "Buffalo",
               "zipcode": 14201
              },
              "type": "Feature"
             },
             {
              "geometry": {
               "coordinates": [
                -74.005941,
                40.712784
               ],
               "type": "Point"
              },
              "id": null,
              "properties": {
               "name": "New York City",
               "zipcode": 10001
              },
              "type": "Feature"
             },
             {
              "geometry": {
               "coordinates": [
                -78.429927,
                42.083639
               ],
               "type": "Point"
              },
              "id": null,
              "properties": {
               "name": "Olean",
               "zipcode": 14760
              },
              "type": "Feature"
             },
             {
              "geometry": {
               "coordinates": [
                -75.063775,
                42.452857
               ],
               "type": "Point"
              },
              "id": null,
              "properties": {
               "name": "Oneonto",
               "zipcode": 13820
              },
              "type": "Feature"
             },
             {
              "geometry": {
               "coordinates": [
                -76.147424,
                43.048122
               ],
               "type": "Point"
              },
              "id": null,
              "properties": {
               "name": "Syracuse",
               "zipcode": 13201
              },
              "type": "Feature"
             }
            ],
            "type": "FeatureCollection"
           },
           "featureType": "geojson",
           "options": {}
          }
         ],
         "layerType": "feature",
         "options": {}
        }
       ],
       "options": {
        "center": {
         "x": -76.5,
         "y": 43,
         "z": 0
        },
        "node": {
         "jQuery331060010345765965721": {
          "events": {
           "contextmenu": [
            {
             "guid": 210,
             "namespace": "geojs",
             "origType": "contextmenu",
             "type": "contextmenu"
            }
           ],
           "dragover": [
            {
             "guid": 203,
             "namespace": "geo",
             "origType": "dragover",
             "type": "dragover"
            }
           ],
           "dragstart": [
            {
             "guid": 209,
             "namespace": "",
             "origType": "dragstart",
             "type": "dragstart"
            }
           ],
           "drop": [
            {
             "guid": 204,
             "namespace": "geo",
             "origType": "drop",
             "type": "drop"
            }
           ],
           "mousedown": [
            {
             "guid": 207,
             "namespace": "geojs",
             "origType": "mousedown",
             "type": "mousedown"
            }
           ],
           "mousemove": [
            {
             "guid": 206,
             "namespace": "geojs",
             "origType": "mousemove",
             "type": "mousemove"
            }
           ],
           "mouseup": [
            {
             "guid": 208,
             "namespace": "geojs",
             "origType": "mouseup",
             "type": "mouseup"
            }
           ],
           "wheel": [
            {
             "guid": 205,
             "namespace": "geojs",
             "origType": "wheel",
             "type": "wheel"
            }
           ]
          }
         },
         "jQuery331060010345765965722": {
          "dataGeojsMap": {}
         }
        },
        "zoom": 7
       }
      },
      "text/plain": [
       "<jupyterlab_geojs.GeoJSMap object>"
      ]
     },
     "metadata": {
      "application/geojs": {
       "expanded": false
      }
     },
     "output_type": "display_data"
    }
   ],
   "source": [
    "# 2. Add GeoJSON features by specifying local file\n",
    "feature_layer.createFeature('geojson', filename=\"./ny-points.geojson\")\n",
    "geomap"
   ]
  },
  {
   "cell_type": "code",
   "execution_count": 10,
   "metadata": {},
   "outputs": [
    {
     "data": {
      "application/geojs": {
       "layers": [
        {
         "layerType": "osm",
         "options": {}
        },
        {
         "features": [
          {
           "data": {
            "geometry": {
             "coordinates": [
              [
               [
                -78.878369,
                42.886447
               ],
               [
                -76.147424,
                43.048122
               ],
               [
                -75.910756,
                43.974784
               ],
               [
                -73.756232,
                42.652579
               ],
               [
                -75.917974,
                42.098687
               ],
               [
                -78.429927,
                42.083639
               ],
               [
                -78.878369,
                42.886447
               ]
              ]
             ],
             "type": "Polygon"
            },
            "properties": {
             "author": "Kitware",
             "cities": [
              "Buffalo",
              "Syracuse",
              "Watertown",
              "Albany",
              "Binghamton",
              "Olean"
             ]
            },
            "type": "Feature"
           },
           "featureType": "geojson",
           "options": {}
          },
          {
           "data": {
            "features": [
             {
              "geometry": {
               "coordinates": [
                -73.756232,
                42.652579
               ],
               "type": "Point"
              },
              "id": null,
              "properties": {
               "name": "Albany",
               "zipcode": 12201
              },
              "type": "Feature"
             },
             {
              "geometry": {
               "coordinates": [
                -75.917974,
                42.098687
               ],
               "type": "Point"
              },
              "id": null,
              "properties": {
               "name": "Binghamton",
               "zipcode": 13901
              },
              "type": "Feature"
             },
             {
              "geometry": {
               "coordinates": [
                -78.878369,
                42.886447
               ],
               "type": "Point"
              },
              "id": null,
              "properties": {
               "name": "Buffalo",
               "zipcode": 14201
              },
              "type": "Feature"
             },
             {
              "geometry": {
               "coordinates": [
                -74.005941,
                40.712784
               ],
               "type": "Point"
              },
              "id": null,
              "properties": {
               "name": "New York City",
               "zipcode": 10001
              },
              "type": "Feature"
             },
             {
              "geometry": {
               "coordinates": [
                -78.429927,
                42.083639
               ],
               "type": "Point"
              },
              "id": null,
              "properties": {
               "name": "Olean",
               "zipcode": 14760
              },
              "type": "Feature"
             },
             {
              "geometry": {
               "coordinates": [
                -75.063775,
                42.452857
               ],
               "type": "Point"
              },
              "id": null,
              "properties": {
               "name": "Oneonto",
               "zipcode": 13820
              },
              "type": "Feature"
             },
             {
              "geometry": {
               "coordinates": [
                -76.147424,
                43.048122
               ],
               "type": "Point"
              },
              "id": null,
              "properties": {
               "name": "Syracuse",
               "zipcode": 13201
              },
              "type": "Feature"
             }
            ],
            "type": "FeatureCollection"
           },
           "featureType": "geojson",
           "options": {}
          },
          {
           "featureType": "geojson",
           "options": {},
           "url": "https://data.kitware.com/api/v1/file/5ad8e9678d777f0685794ac6/download/ny-multilinestring.geojson"
          }
         ],
         "layerType": "feature",
         "options": {}
        }
       ],
       "options": {
        "center": {
         "x": -76.5,
         "y": 43,
         "z": 0
        },
        "node": {
         "jQuery331060010345765965721": {
          "events": {
           "contextmenu": [
            {
             "guid": 232,
             "namespace": "geojs",
             "origType": "contextmenu",
             "type": "contextmenu"
            }
           ],
           "dragover": [
            {
             "guid": 225,
             "namespace": "geo",
             "origType": "dragover",
             "type": "dragover"
            }
           ],
           "dragstart": [
            {
             "guid": 231,
             "namespace": "",
             "origType": "dragstart",
             "type": "dragstart"
            }
           ],
           "drop": [
            {
             "guid": 226,
             "namespace": "geo",
             "origType": "drop",
             "type": "drop"
            }
           ],
           "mousedown": [
            {
             "guid": 229,
             "namespace": "geojs",
             "origType": "mousedown",
             "type": "mousedown"
            }
           ],
           "mousemove": [
            {
             "guid": 228,
             "namespace": "geojs",
             "origType": "mousemove",
             "type": "mousemove"
            }
           ],
           "mouseup": [
            {
             "guid": 230,
             "namespace": "geojs",
             "origType": "mouseup",
             "type": "mouseup"
            }
           ],
           "wheel": [
            {
             "guid": 227,
             "namespace": "geojs",
             "origType": "wheel",
             "type": "wheel"
            }
           ]
          }
         },
         "jQuery331060010345765965722": {
          "dataGeojsMap": {}
         }
        },
        "zoom": 7
       }
      },
      "text/plain": [
       "<jupyterlab_geojs.GeoJSMap object>"
      ]
     },
     "metadata": {
      "application/geojs": {
       "expanded": false
      }
     },
     "output_type": "display_data"
    }
   ],
   "source": [
    "# 3. Add GeoJSON features by downloading from a remote server\n",
    "url = 'https://data.kitware.com/api/v1/file/5ad8e9678d777f0685794ac6/download/ny-multilinestring.geojson'\n",
    "feature_layer.createFeature('geojson', url=url)\n",
    "geomap"
   ]
  },
  {
   "cell_type": "code",
   "execution_count": null,
   "metadata": {},
   "outputs": [],
   "source": []
  }
 ],
 "metadata": {
  "kernelspec": {
   "display_name": "Python 3",
   "language": "python",
   "name": "python3"
  },
  "language_info": {
   "codemirror_mode": {
    "name": "ipython",
    "version": 3
   },
   "file_extension": ".py",
   "mimetype": "text/x-python",
   "name": "python",
   "nbconvert_exporter": "python",
   "pygments_lexer": "ipython3",
   "version": "3.5.2"
  }
 },
 "nbformat": 4,
 "nbformat_minor": 2
}
