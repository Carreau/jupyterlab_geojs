{
 "cells": [
  {
   "cell_type": "code",
   "execution_count": 1,
   "metadata": {},
   "outputs": [],
   "source": [
    "from jupyterlab_geojs import GeoJSMap\n",
    "geo_map = GeoJSMap()\n",
    "geo_map.center = {'x': -97.67, 'y': 31.80}\n",
    "geo_map.zoom = 4\n",
    "osm_layer = geo_map.createLayer('osm')\n",
    "feature_layer = geo_map.createLayer('feature')"
   ]
  },
  {
   "cell_type": "code",
   "execution_count": 2,
   "metadata": {},
   "outputs": [],
   "source": [
    "# Point data\n",
    "# Copied from http://opengeoscience.github.io/geojs/tutorials/simple_point/\n",
    "cities = [\n",
    "    {'lon': -74.0059413, 'lat': 40.7127837, 'name': \"New York\", 'population': 8405837},\n",
    "    {'lon': -118.2436849, 'lat': 34.0522342, 'name': \"Los Angeles\", 'population': 3884307},\n",
    "    {'lon': -87.6297982, 'lat': 41.8781136, 'name': \"Chicago\", 'population': 2718782},\n",
    "    {'lon': -95.3698028, 'lat': 29.7604267, 'name': \"Houston\", 'population': 2195914},\n",
    "    {'lon': -75.1652215, 'lat': 39.9525839, 'name': \"Philadelphia\", 'population': 1553165},\n",
    "    {'lon': -112.0740373, 'lat': 33.4483771, 'name': \"Phoenix\", 'population': 1513367}\n",
    "]\n",
    "positions = [{'x':city['lon'], 'y':city['lat']} for city in cities]\n",
    "style = {'fillColor': 'red', 'strokeColor': 'black', 'strokeWidget': 2}\n",
    "points = feature_layer.createFeature('point', data=cities, position=positions, style=style)\n"
   ]
  },
  {
   "cell_type": "code",
   "execution_count": 3,
   "metadata": {},
   "outputs": [],
   "source": [
    "# Quad data\n",
    "# Copied from http://opengeoscience.github.io/geojs/tutorials/video_on_map/\n",
    "quad = feature_layer.createFeature('quad')\n",
    "quad.data = [{\n",
    "    'ul': {'x': -129.0625, 'y': 42.13468456089552},\n",
    "    'lr': {'x': -100.9375, 'y': 29.348416310781797}\n",
    "}]\n",
    "quad.style = {'color': 'magenta', 'opacity': 0.2}\n"
   ]
  },
  {
   "cell_type": "code",
   "execution_count": 4,
   "metadata": {},
   "outputs": [
    {
     "data": {
      "application/geojs+json": {
       "layers": [
        {
         "layerType": "osm",
         "options": {}
        },
        {
         "features": [
          {
           "featureType": "point",
           "options": {
            "data": [
             {
              "lat": 40.7127837,
              "lon": -74.0059413,
              "name": "New York",
              "population": 8405837
             },
             {
              "lat": 34.0522342,
              "lon": -118.2436849,
              "name": "Los Angeles",
              "population": 3884307
             },
             {
              "lat": 41.8781136,
              "lon": -87.6297982,
              "name": "Chicago",
              "population": 2718782
             },
             {
              "lat": 29.7604267,
              "lon": -95.3698028,
              "name": "Houston",
              "population": 2195914
             },
             {
              "lat": 39.9525839,
              "lon": -75.1652215,
              "name": "Philadelphia",
              "population": 1553165
             },
             {
              "lat": 33.4483771,
              "lon": -112.0740373,
              "name": "Phoenix",
              "population": 1513367
             }
            ],
            "position": [
             {
              "x": -74.0059413,
              "y": 40.7127837
             },
             {
              "x": -118.2436849,
              "y": 34.0522342
             },
             {
              "x": -87.6297982,
              "y": 41.8781136
             },
             {
              "x": -95.3698028,
              "y": 29.7604267
             },
             {
              "x": -75.1652215,
              "y": 39.9525839
             },
             {
              "x": -112.0740373,
              "y": 33.4483771
             }
            ],
            "style": {
             "fillColor": "red",
             "strokeColor": "black",
             "strokeWidget": 2
            }
           }
          },
          {
           "featureType": "quad",
           "options": {
            "data": [
             {
              "_cachedQuad": {
               "clrquad": {
                "color": {
                 "b": 1,
                 "g": 0,
                 "r": 1
                },
                "idx": 0,
                "opacity": 0.2,
                "pos": [
                 -14367171.78050687,
                 3420066.8061990403,
                 0,
                 -11236311.101946052,
                 3420066.8061990403,
                 0,
                 -14367171.78050687,
                 5181175.937889501,
                 0,
                 -11236311.101946052,
                 5181175.937889501,
                 0
                ],
                "quadId": 1
               },
               "diag2": 268514673695437.56,
               "ll": [
                -14367171.78050687,
                3420066.8061990403,
                0
               ]
              },
              "lr": {
               "x": -100.9375,
               "y": 29.348416310781797
              },
              "ul": {
               "x": -129.0625,
               "y": 42.13468456089552
              }
             }
            ],
            "style": {
             "color": "magenta",
             "opacity": 0.2
            }
           }
          }
         ],
         "layerType": "feature",
         "options": {}
        }
       ],
       "options": {
        "center": {
         "x": -97.67,
         "y": 31.8,
         "z": 0
        },
        "node": {
         "jQuery3310061145791757634791": {
          "events": {
           "contextmenu": [
            {
             "guid": 52,
             "namespace": "geojs",
             "origType": "contextmenu",
             "type": "contextmenu"
            }
           ],
           "dragover": [
            {
             "guid": 45,
             "namespace": "geo",
             "origType": "dragover",
             "type": "dragover"
            }
           ],
           "dragstart": [
            {
             "guid": 51,
             "namespace": "",
             "origType": "dragstart",
             "type": "dragstart"
            }
           ],
           "drop": [
            {
             "guid": 46,
             "namespace": "geo",
             "origType": "drop",
             "type": "drop"
            }
           ],
           "mousedown": [
            {
             "guid": 49,
             "namespace": "geojs",
             "origType": "mousedown",
             "type": "mousedown"
            }
           ],
           "mousemove": [
            {
             "guid": 48,
             "namespace": "geojs",
             "origType": "mousemove",
             "type": "mousemove"
            }
           ],
           "mouseup": [
            {
             "guid": 50,
             "namespace": "geojs",
             "origType": "mouseup",
             "type": "mouseup"
            }
           ],
           "wheel": [
            {
             "guid": 47,
             "namespace": "geojs",
             "origType": "wheel",
             "type": "wheel"
            }
           ]
          }
         },
         "jQuery3310061145791757634792": {
          "dataGeojsMap": {}
         }
        },
        "zoom": 4
       }
      },
      "text/plain": [
       "<jupyterlab_geojs.GeoJSMap object>"
      ]
     },
     "metadata": {
      "application/geojs+json": {
       "expanded": false
      }
     },
     "output_type": "display_data"
    }
   ],
   "source": [
    "geo_map"
   ]
  },
  {
   "cell_type": "code",
   "execution_count": null,
   "metadata": {},
   "outputs": [],
   "source": []
  }
 ],
 "metadata": {
  "kernelspec": {
   "display_name": "Python 3",
   "language": "python",
   "name": "python3"
  },
  "language_info": {
   "codemirror_mode": {
    "name": "ipython",
    "version": 3
   },
   "file_extension": ".py",
   "mimetype": "text/x-python",
   "name": "python",
   "nbconvert_exporter": "python",
   "pygments_lexer": "ipython3",
   "version": "3.5.2"
  }
 },
 "nbformat": 4,
 "nbformat_minor": 2
}
